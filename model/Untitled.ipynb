{
 "cells": [
  {
   "cell_type": "code",
   "execution_count": 1,
   "id": "c0e3e98f",
   "metadata": {},
   "outputs": [],
   "source": [
    "from pose_encoder import PoseEncoder\n"
   ]
  },
  {
   "cell_type": "code",
   "execution_count": 4,
   "id": "05670792",
   "metadata": {},
   "outputs": [],
   "source": [
    "poseEncoder = PoseEncoder(1632, 2048)"
   ]
  },
  {
   "cell_type": "code",
   "execution_count": null,
   "id": "6579905e",
   "metadata": {},
   "outputs": [],
   "source": []
  }
 ],
 "metadata": {
  "kernelspec": {
   "display_name": "dataloader",
   "language": "python",
   "name": "dataloader"
  },
  "language_info": {
   "codemirror_mode": {
    "name": "ipython",
    "version": 3
   },
   "file_extension": ".py",
   "mimetype": "text/x-python",
   "name": "python",
   "nbconvert_exporter": "python",
   "pygments_lexer": "ipython3",
   "version": "3.8.16"
  }
 },
 "nbformat": 4,
 "nbformat_minor": 5
}
