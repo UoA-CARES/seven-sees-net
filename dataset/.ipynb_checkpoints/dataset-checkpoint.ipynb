{
 "cells": [
  {
   "cell_type": "code",
   "execution_count": 1,
   "id": "7f193ab5",
   "metadata": {},
   "outputs": [],
   "source": [
    "from pipelines.sampleframes import SampleFrames\n",
    "import os.path as osp"
   ]
  },
  {
   "cell_type": "code",
   "execution_count": 2,
   "id": "2b0d6b3e",
   "metadata": {},
   "outputs": [],
   "source": [
    "ann_file = '../data/rawframes/annotations.txt'\n",
    "root_dir = '../data/rawframes/test/'\n",
    "rgb_prefix =  'img_{:05}.jpg'\n",
    "flow_prefix = 'flow_{:05}.jpg'\n",
    "depth_prefix = 'depth_{:05}.jpg'"
   ]
  },
  {
   "cell_type": "code",
   "execution_count": 3,
   "id": "60dcdcb1",
   "metadata": {},
   "outputs": [],
   "source": [
    "results=dict()"
   ]
  },
  {
   "cell_type": "markdown",
   "id": "227a00b1",
   "metadata": {},
   "source": [
    "## Load annotations"
   ]
  },
  {
   "cell_type": "code",
   "execution_count": 4,
   "id": "23529967",
   "metadata": {},
   "outputs": [
    {
     "name": "stdout",
     "output_type": "stream",
     "text": [
      "['01391', '41', '0']\n",
      "['07973', '71', '1']\n",
      "['13159', '55', '2']\n"
     ]
    }
   ],
   "source": [
    "video_infos = []\n",
    "with open(ann_file, 'r') as fin:\n",
    "    for line in fin:\n",
    "        line_split = line.strip().split()\n",
    "        \n",
    "        print(line_split)\n",
    "        video_info = dict()\n",
    "        video_info['video_path'] = osp.join(root_dir, line_split[0])\n",
    "        video_info['start_index'] = 1\n",
    "        video_info['total_frames'] = int(line_split[1])\n",
    "        video_info['label'] = int(line_split[2])\n",
    "        video_infos.append(video_info)"
   ]
  },
  {
   "cell_type": "code",
   "execution_count": 5,
   "id": "56624399",
   "metadata": {},
   "outputs": [
    {
     "data": {
      "text/plain": [
       "[{'video_path': '../data/rawframes/test/01391',\n",
       "  'start_index': 1,\n",
       "  'total_frames': 41,\n",
       "  'label': 0},\n",
       " {'video_path': '../data/rawframes/test/07973',\n",
       "  'start_index': 1,\n",
       "  'total_frames': 71,\n",
       "  'label': 1},\n",
       " {'video_path': '../data/rawframes/test/13159',\n",
       "  'start_index': 1,\n",
       "  'total_frames': 55,\n",
       "  'label': 2}]"
      ]
     },
     "execution_count": 5,
     "metadata": {},
     "output_type": "execute_result"
    }
   ],
   "source": [
    "video_infos"
   ]
  },
  {
   "cell_type": "code",
   "execution_count": 6,
   "id": "4260469c",
   "metadata": {},
   "outputs": [],
   "source": [
    "results.update(video_infos[0])"
   ]
  },
  {
   "cell_type": "markdown",
   "id": "fc78bd71",
   "metadata": {},
   "source": [
    "## Load Pose"
   ]
  },
  {
   "cell_type": "code",
   "execution_count": 10,
   "id": "b18b33f3",
   "metadata": {},
   "outputs": [],
   "source": [
    "def decode(line):\n",
    "    line = [l for l in line.replace(',',\"\").split(' ') if l != '' and l != '\\n']\n",
    "    imgpath = line[0]\n",
    "    line = line[1:]\n",
    "    line = [float(l) for l in line]\n",
    "\n",
    "\n",
    "    #line [imgpath [0], [y,x, conf][1], ...[4], ... [52], headlb[54], headrt,lhandlb[58], lhandrt, rhandlb[62], rhandrt, bboxlb[66], bboxrt[68] ]\n",
    "\n",
    "    \n",
    "    posepoints = line[0:51]\n",
    "    head = line[51:55]\n",
    "    lhand =line[55:59]\n",
    "    rhand = line[59:63]\n",
    "    bodybbox = line[63:]\n",
    "    \n",
    "    keypoints = [\"nose\",\n",
    "            \"left_eye\",\n",
    "            \"right_eye\",\n",
    "            \"left_ear\",\n",
    "            \"right_ear\",\n",
    "            \"left_shoulder\",\n",
    "            \"right_shoulder\",\n",
    "             \"left_elbow\",\n",
    "             \"right_elbow\",\n",
    "             \"left_wrist\",\n",
    "             \"right_wrist\",\n",
    "             \"left_hip\",\n",
    "             \"right_hip\",\n",
    "             \"left_knee\",\n",
    "             \"right_knee\",\n",
    "             \"left_ankle\",\n",
    "             \"right_ankle\"\n",
    "            ]\n",
    "\n",
    "    pose_values = dict()\n",
    "\n",
    "    for i in range(0, 51, 3):\n",
    "        pose_values[keypoints[i//3]] = dict(x = posepoints[i],\n",
    "                                          y=posepoints[i+1],\n",
    "                                          confidence=posepoints[i+2])\n",
    "    \n",
    "    return pose_values, head, lhand, rhand, bodybbox, imgpath"
   ]
  },
  {
   "cell_type": "code",
   "execution_count": 8,
   "id": "8e5fd5c3",
   "metadata": {},
   "outputs": [
    {
     "ename": "NameError",
     "evalue": "name 'video_path' is not defined",
     "output_type": "error",
     "traceback": [
      "\u001b[0;31m---------------------------------------------------------------------------\u001b[0m",
      "\u001b[0;31mNameError\u001b[0m                                 Traceback (most recent call last)",
      "Cell \u001b[0;32mIn [8], line 1\u001b[0m\n\u001b[0;32m----> 1\u001b[0m \u001b[43mvideo_path\u001b[49m\n",
      "\u001b[0;31mNameError\u001b[0m: name 'video_path' is not defined"
     ]
    }
   ],
   "source": [
    "video_path"
   ]
  },
  {
   "cell_type": "code",
   "execution_count": 9,
   "id": "e016b321",
   "metadata": {},
   "outputs": [
    {
     "ename": "NameError",
     "evalue": "name 'img_path' is not defined",
     "output_type": "error",
     "traceback": [
      "\u001b[0;31m---------------------------------------------------------------------------\u001b[0m",
      "\u001b[0;31mNameError\u001b[0m                                 Traceback (most recent call last)",
      "Cell \u001b[0;32mIn [9], line 1\u001b[0m\n\u001b[0;32m----> 1\u001b[0m \u001b[43mimg_path\u001b[49m\n",
      "\u001b[0;31mNameError\u001b[0m: name 'img_path' is not defined"
     ]
    }
   ],
   "source": [
    "img_path"
   ]
  },
  {
   "cell_type": "code",
   "execution_count": null,
   "id": "70fbc50f",
   "metadata": {},
   "outputs": [],
   "source": [
    "results"
   ]
  },
  {
   "cell_type": "code",
   "execution_count": null,
   "id": "47dffe36",
   "metadata": {},
   "outputs": [],
   "source": [
    "pose_frames = dict()\n",
    "with open(video_path + '/pose.txt', 'r') as fin:\n",
    "    for line in fin:\n",
    "        pose_values, head, lhand, rhand, bodybbox, imgpath = decode(line)\n",
    "        pose_frames[imgpath] = dict(keypoints=pose_values,\n",
    "                                   head=head,\n",
    "                                   left_hand=lhand,\n",
    "                                   right_hand=rhand,\n",
    "                                   body_bbox=bodybbox,\n",
    "                                   )\n",
    "        \n",
    "results['pose'] = pose_frames"
   ]
  },
  {
   "cell_type": "code",
   "execution_count": null,
   "id": "5252e94b",
   "metadata": {},
   "outputs": [],
   "source": [
    "pose_frames"
   ]
  },
  {
   "cell_type": "code",
   "execution_count": null,
   "id": "79244be9",
   "metadata": {},
   "outputs": [],
   "source": [
    "from pipelines.sampleframes import SampleFrames"
   ]
  },
  {
   "cell_type": "code",
   "execution_count": null,
   "id": "d8081856",
   "metadata": {},
   "outputs": [],
   "source": [
    "sampleframes = SampleFrames(clip_len=32,\n",
    "                           frame_interval=2,\n",
    "                           num_clips=1)"
   ]
  },
  {
   "cell_type": "code",
   "execution_count": null,
   "id": "8b7957ce",
   "metadata": {},
   "outputs": [],
   "source": [
    "results.keys()"
   ]
  },
  {
   "cell_type": "code",
   "execution_count": null,
   "id": "6f47d22f",
   "metadata": {},
   "outputs": [],
   "source": [
    "results"
   ]
  },
  {
   "cell_type": "code",
   "execution_count": null,
   "id": "e1310f8c",
   "metadata": {
    "scrolled": true
   },
   "outputs": [],
   "source": [
    "results = sampleframes(results)"
   ]
  },
  {
   "cell_type": "code",
   "execution_count": null,
   "id": "8f657c34",
   "metadata": {},
   "outputs": [],
   "source": [
    "results"
   ]
  },
  {
   "cell_type": "markdown",
   "id": "c6566150",
   "metadata": {},
   "source": [
    "## Load frames"
   ]
  },
  {
   "cell_type": "code",
   "execution_count": null,
   "id": "98f4d49b",
   "metadata": {},
   "outputs": [],
   "source": [
    "from PIL import Image"
   ]
  },
  {
   "cell_type": "code",
   "execution_count": null,
   "id": "3ffe996b",
   "metadata": {},
   "outputs": [],
   "source": [
    "frame_indices = results['frame_inds']"
   ]
  },
  {
   "cell_type": "code",
   "execution_count": null,
   "id": "e06286f7",
   "metadata": {},
   "outputs": [],
   "source": [
    "frame = frame_indices[0]"
   ]
  },
  {
   "cell_type": "code",
   "execution_count": null,
   "id": "e510cf60",
   "metadata": {},
   "outputs": [],
   "source": [
    "image = Image.open(osp.join(video_path, depth_prefix.format(frame)))"
   ]
  },
  {
   "cell_type": "code",
   "execution_count": null,
   "id": "d77c5521",
   "metadata": {},
   "outputs": [],
   "source": [
    "rgb_frames = []\n",
    "flow_frames = []\n",
    "depth_frames = []\n",
    "cache = dict()\n",
    "\n",
    "for frame in frame_indices:\n",
    "    if frame not in cache:\n",
    "        rgb_frame = Image.open(osp.join(video_path, rgb_prefix.format(frame)))\n",
    "        depth_frame = Image.open(osp.join(video_path, depth_prefix.format(frame)))\n",
    "        flow_frame = Image.open(osp.join(video_path, flow_prefix.format(frame)))\n",
    "        \n",
    "        # Add frames to cache\n",
    "        cache[frame] = dict(rgb_frame=rgb_frame,\n",
    "                           depth_frame=depth_frame,\n",
    "                           flow_frame=flow_frame)\n",
    "        \n",
    "        rgb_frames.append(rgb_frame)\n",
    "        depth_frames.append(depth_frame)\n",
    "        flow_frames.append(flow_frame)\n",
    "        \n",
    "    else:\n",
    "        rgb_frames.append(cache[frame][rgb_frame])\n",
    "        depth_frames.append(cache[frame][depth_frame])\n",
    "        flow_frames.append(cache[frame][flow_frame])\n",
    "        \n"
   ]
  },
  {
   "cell_type": "code",
   "execution_count": null,
   "id": "a0f65000",
   "metadata": {},
   "outputs": [],
   "source": []
  }
 ],
 "metadata": {
  "kernelspec": {
   "display_name": "Python (wlasl)",
   "language": "python",
   "name": "wlasl"
  },
  "language_info": {
   "codemirror_mode": {
    "name": "ipython",
    "version": 3
   },
   "file_extension": ".py",
   "mimetype": "text/x-python",
   "name": "python",
   "nbconvert_exporter": "python",
   "pygments_lexer": "ipython3",
   "version": "3.8.15"
  }
 },
 "nbformat": 4,
 "nbformat_minor": 5
}
